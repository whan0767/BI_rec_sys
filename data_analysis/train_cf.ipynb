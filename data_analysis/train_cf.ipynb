{
 "cells": [
  {
   "cell_type": "code",
   "execution_count": 11,
   "metadata": {},
   "outputs": [],
   "source": [
    "from surprise import SVD,KNNBasic,BaselineOnly\n",
    "from surprise import Dataset,Reader\n",
    "from surprise.model_selection import cross_validate, train_test_split\n",
    "from surprise import accuracy\n",
    "import pandas as pd\n",
    "import numpy as np\n",
    "import json\n",
    "from ast import literal_eval\n",
    "from tqdm import tqdm\n",
    "import matplotlib.pyplot as plt"
   ]
  },
  {
   "cell_type": "code",
   "execution_count": 4,
   "metadata": {},
   "outputs": [
    {
     "data": {
      "text/html": [
       "<div>\n",
       "<style scoped>\n",
       "    .dataframe tbody tr th:only-of-type {\n",
       "        vertical-align: middle;\n",
       "    }\n",
       "\n",
       "    .dataframe tbody tr th {\n",
       "        vertical-align: top;\n",
       "    }\n",
       "\n",
       "    .dataframe thead th {\n",
       "        text-align: right;\n",
       "    }\n",
       "</style>\n",
       "<table border=\"1\" class=\"dataframe\">\n",
       "  <thead>\n",
       "    <tr style=\"text-align: right;\">\n",
       "      <th></th>\n",
       "      <th>Unnamed: 0</th>\n",
       "      <th>user</th>\n",
       "      <th>item</th>\n",
       "      <th>playtime</th>\n",
       "      <th>playtime_log</th>\n",
       "      <th>rating</th>\n",
       "      <th>rating_norm</th>\n",
       "    </tr>\n",
       "  </thead>\n",
       "  <tbody>\n",
       "    <tr>\n",
       "      <th>0</th>\n",
       "      <td>0</td>\n",
       "      <td>76561197970982479</td>\n",
       "      <td>10</td>\n",
       "      <td>6</td>\n",
       "      <td>1.791759</td>\n",
       "      <td>-0.939162</td>\n",
       "      <td>3.660500</td>\n",
       "    </tr>\n",
       "    <tr>\n",
       "      <th>1</th>\n",
       "      <td>2</td>\n",
       "      <td>76561197970982479</td>\n",
       "      <td>30</td>\n",
       "      <td>7</td>\n",
       "      <td>1.945910</td>\n",
       "      <td>-0.577758</td>\n",
       "      <td>3.922164</td>\n",
       "    </tr>\n",
       "    <tr>\n",
       "      <th>2</th>\n",
       "      <td>8</td>\n",
       "      <td>76561197970982479</td>\n",
       "      <td>300</td>\n",
       "      <td>4733</td>\n",
       "      <td>8.462315</td>\n",
       "      <td>1.597444</td>\n",
       "      <td>5.497058</td>\n",
       "    </tr>\n",
       "    <tr>\n",
       "      <th>3</th>\n",
       "      <td>9</td>\n",
       "      <td>76561197970982479</td>\n",
       "      <td>240</td>\n",
       "      <td>1853</td>\n",
       "      <td>7.524561</td>\n",
       "      <td>0.600656</td>\n",
       "      <td>4.775361</td>\n",
       "    </tr>\n",
       "    <tr>\n",
       "      <th>4</th>\n",
       "      <td>10</td>\n",
       "      <td>76561197970982479</td>\n",
       "      <td>3830</td>\n",
       "      <td>333</td>\n",
       "      <td>5.808142</td>\n",
       "      <td>0.451467</td>\n",
       "      <td>4.667345</td>\n",
       "    </tr>\n",
       "    <tr>\n",
       "      <th>...</th>\n",
       "      <td>...</td>\n",
       "      <td>...</td>\n",
       "      <td>...</td>\n",
       "      <td>...</td>\n",
       "      <td>...</td>\n",
       "      <td>...</td>\n",
       "      <td>...</td>\n",
       "    </tr>\n",
       "    <tr>\n",
       "      <th>1485712</th>\n",
       "      <td>5093507</td>\n",
       "      <td>76561198312638244</td>\n",
       "      <td>286690</td>\n",
       "      <td>47</td>\n",
       "      <td>3.850148</td>\n",
       "      <td>-1.046429</td>\n",
       "      <td>3.582836</td>\n",
       "    </tr>\n",
       "    <tr>\n",
       "      <th>1485713</th>\n",
       "      <td>5093508</td>\n",
       "      <td>76561198312638244</td>\n",
       "      <td>238010</td>\n",
       "      <td>284</td>\n",
       "      <td>5.648974</td>\n",
       "      <td>-0.057251</td>\n",
       "      <td>4.299023</td>\n",
       "    </tr>\n",
       "    <tr>\n",
       "      <th>1485714</th>\n",
       "      <td>5093509</td>\n",
       "      <td>76561198312638244</td>\n",
       "      <td>730</td>\n",
       "      <td>23</td>\n",
       "      <td>3.135494</td>\n",
       "      <td>-3.018409</td>\n",
       "      <td>2.155080</td>\n",
       "    </tr>\n",
       "    <tr>\n",
       "      <th>1485715</th>\n",
       "      <td>5093511</td>\n",
       "      <td>76561198312638244</td>\n",
       "      <td>362890</td>\n",
       "      <td>2184</td>\n",
       "      <td>7.688913</td>\n",
       "      <td>1.434890</td>\n",
       "      <td>5.379365</td>\n",
       "    </tr>\n",
       "    <tr>\n",
       "      <th>1485716</th>\n",
       "      <td>5093514</td>\n",
       "      <td>76561198312638244</td>\n",
       "      <td>379720</td>\n",
       "      <td>1178</td>\n",
       "      <td>7.071573</td>\n",
       "      <td>0.673791</td>\n",
       "      <td>4.828313</td>\n",
       "    </tr>\n",
       "  </tbody>\n",
       "</table>\n",
       "<p>1485717 rows × 7 columns</p>\n",
       "</div>"
      ],
      "text/plain": [
       "         Unnamed: 0               user    item  playtime  playtime_log  \\\n",
       "0                 0  76561197970982479      10         6      1.791759   \n",
       "1                 2  76561197970982479      30         7      1.945910   \n",
       "2                 8  76561197970982479     300      4733      8.462315   \n",
       "3                 9  76561197970982479     240      1853      7.524561   \n",
       "4                10  76561197970982479    3830       333      5.808142   \n",
       "...             ...                ...     ...       ...           ...   \n",
       "1485712     5093507  76561198312638244  286690        47      3.850148   \n",
       "1485713     5093508  76561198312638244  238010       284      5.648974   \n",
       "1485714     5093509  76561198312638244     730        23      3.135494   \n",
       "1485715     5093511  76561198312638244  362890      2184      7.688913   \n",
       "1485716     5093514  76561198312638244  379720      1178      7.071573   \n",
       "\n",
       "           rating  rating_norm  \n",
       "0       -0.939162     3.660500  \n",
       "1       -0.577758     3.922164  \n",
       "2        1.597444     5.497058  \n",
       "3        0.600656     4.775361  \n",
       "4        0.451467     4.667345  \n",
       "...           ...          ...  \n",
       "1485712 -1.046429     3.582836  \n",
       "1485713 -0.057251     4.299023  \n",
       "1485714 -3.018409     2.155080  \n",
       "1485715  1.434890     5.379365  \n",
       "1485716  0.673791     4.828313  \n",
       "\n",
       "[1485717 rows x 7 columns]"
      ]
     },
     "execution_count": 4,
     "metadata": {},
     "output_type": "execute_result"
    }
   ],
   "source": [
    "user_item_rating = pd.read_csv('BI_rec_sys/data//processed_user_data_rating.csv')\n",
    "user_item_rating"
   ]
  },
  {
   "cell_type": "code",
   "execution_count": 5,
   "metadata": {},
   "outputs": [],
   "source": [
    "reader = Reader(rating_scale=(0,10))\n",
    "data = Dataset.load_from_df(user_item_rating[['user','item','rating_norm']],reader=reader)\n",
    "train,test = train_test_split(data,test_size=0.2,random_state=2023)"
   ]
  },
  {
   "cell_type": "code",
   "execution_count": 21,
   "metadata": {},
   "outputs": [
    {
     "data": {
      "text/plain": [
       "<surprise.prediction_algorithms.matrix_factorization.SVD at 0x1da02589650>"
      ]
     },
     "execution_count": 21,
     "metadata": {},
     "output_type": "execute_result"
    }
   ],
   "source": [
    "algo = SVD()\n",
    "algo.fit(train)"
   ]
  },
  {
   "cell_type": "code",
   "execution_count": 22,
   "metadata": {},
   "outputs": [
    {
     "name": "stdout",
     "output_type": "stream",
     "text": [
      "[Prediction(uid='76561198092638474', iid=202090, r_ui=4.461209092631053, est=10, details={'was_impossible': False}), Prediction(uid='InTranze', iid=385200, r_ui=4.5814086041253, est=10, details={'was_impossible': False}), Prediction(uid='76561198084694331', iid=32330, r_ui=4.651673127959241, est=10, details={'was_impossible': False}), Prediction(uid='crownnovacrown', iid=31280, r_ui=4.200940835976559, est=10, details={'was_impossible': False}), Prediction(uid='turbogranny', iid=220440, r_ui=4.819924145069099, est=10, details={'was_impossible': False})]\n"
     ]
    }
   ],
   "source": [
    "prediction = algo.test(test)\n",
    "print(prediction[:5])"
   ]
  },
  {
   "cell_type": "code",
   "execution_count": 23,
   "metadata": {},
   "outputs": [
    {
     "name": "stdout",
     "output_type": "stream",
     "text": [
      "RMSE: 5.7035\n"
     ]
    },
    {
     "data": {
      "text/plain": [
       "5.70353744898748"
      ]
     },
     "execution_count": 23,
     "metadata": {},
     "output_type": "execute_result"
    }
   ],
   "source": [
    "accuracy.rmse(prediction)"
   ]
  }
 ],
 "metadata": {
  "kernelspec": {
   "display_name": "base",
   "language": "python",
   "name": "python3"
  },
  "language_info": {
   "codemirror_mode": {
    "name": "ipython",
    "version": 3
   },
   "file_extension": ".py",
   "mimetype": "text/x-python",
   "name": "python",
   "nbconvert_exporter": "python",
   "pygments_lexer": "ipython3",
   "version": "3.11.4"
  }
 },
 "nbformat": 4,
 "nbformat_minor": 2
}
